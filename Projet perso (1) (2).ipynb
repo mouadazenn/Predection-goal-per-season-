{
 "cells": [
  {
   "cell_type": "markdown",
   "metadata": {},
   "source": [
    "### Title: Predicting Goal Scoring Totals per Season for Soccer Players\n",
    "\n",
    "**Objective:**\n",
    "This project aims to develop a predictive model that forecasts the number of goals a player is likely to score over a season, leveraging historical performance data, team dynamics, and contextual match factors. Accurately predicting a player's goal total can offer insights into player valuation, transfer potential, and game strategy. The project will focus on data collection, feature engineering, model training, and visualization to highlight key predictors and demonstrate model performance.\n",
    "\n",
    "**Description :**\n",
    "This script aims to predict the number of goals scored by a player named Kany over multiple seasons using linear regression. It employs a custom gradient descent implementation for training, alongside the LinearRegression model from scikit-learn. The code involves loading historical data, preparing features, and making predictions based on various input parameters such as the season, minutes played, and matches played. The model is trained on historical data, and a specific season is tested to evaluate the predictive capability of the model."
   ]
  },
  {
   "cell_type": "code",
   "execution_count": 1,
   "metadata": {},
   "outputs": [],
   "source": [
    "# Import necessary libraries\n",
    "import numpy as np\n",
    "import matplotlib.pyplot as plt\n",
    "from sklearn.linear_model import LinearRegression\n",
    "import pandas as pd"
   ]
  },
  {
   "cell_type": "code",
   "execution_count": 2,
   "metadata": {},
   "outputs": [
    {
     "name": "stdout",
     "output_type": "stream",
     "text": [
      "Collecting html5lib\n",
      "  Downloading html5lib-1.1-py2.py3-none-any.whl.metadata (16 kB)\n",
      "Requirement already satisfied: six>=1.9 in c:\\users\\pc\\anaconda3\\envs\\tenserflow\\lib\\site-packages (from html5lib) (1.16.0)\n",
      "Requirement already satisfied: webencodings in c:\\users\\pc\\anaconda3\\envs\\tenserflow\\lib\\site-packages (from html5lib) (0.5.1)\n",
      "Downloading html5lib-1.1-py2.py3-none-any.whl (112 kB)\n",
      "Installing collected packages: html5lib\n",
      "Successfully installed html5lib-1.1\n",
      "Note: you may need to restart the kernel to use updated packages.\n"
     ]
    }
   ],
   "source": [
    "pip install html5lib"
   ]
  },
  {
   "cell_type": "markdown",
   "metadata": {},
   "source": [
    "We start by creating the function MSEStep, which performs one iteration of the Mean Squared Error (MSE) optimization. This function calculates the predicted values using the current weights and bias, computes the error, and updates the weights and bias based on this error. A learning rate is applied to control the magnitude of the updates, enabling the model to learn from the data progressively. The updated weights and bias are then returned for use in subsequent iterations of the optimization process."
   ]
  },
  {
   "cell_type": "code",
   "execution_count": 3,
   "metadata": {},
   "outputs": [],
   "source": [
    "# Set a seed for reproducibility\n",
    "np.random.seed(42)\n",
    "\n",
    "# Function to perform one step of Mean Squared Error (MSE) optimization\n",
    "def MSEStep(X, y, W, b, learn_rate=0.001):\n",
    "    # Predict values using the current weights and bias\n",
    "    y_pred = np.matmul(X, W) + b\n",
    "    # Calculate the error between actual and predicted values\n",
    "    error = y - y_pred\n",
    "    # Update weights based on the error and learning rate\n",
    "    W_new = W + learn_rate * np.matmul(error, X)\n",
    "    # Update bias\n",
    "    b_new = b + learn_rate * error.sum()\n",
    "    return W_new, b_new"
   ]
  },
  {
   "cell_type": "markdown",
   "metadata": {},
   "source": [
    "We define the gradient_descent function to optimize the weights and bias of our linear regression model. It initializes the weights as a zero vector and sets the bias to zero. The function then performs multiple iterations of the gradient descent process, calling the MSEStep function to update the weights and bias based on the training data. Finally, the optimized weights and bias are returned, ready for making predictions."
   ]
  },
  {
   "cell_type": "code",
   "execution_count": 163,
   "metadata": {},
   "outputs": [],
   "source": [
    "# Gradient descent function to optimize weights and bias\n",
    "def gradient_descent(X, y, learn_rate=0.005, num_iter=25):\n",
    "    # Initialize weights and bias\n",
    "    W = np.zeros(X.shape[1])\n",
    "    b = 0 \n",
    "    # Perform gradient descent for a specified number of iterations\n",
    "    for _ in range(num_iter):\n",
    "        W, b = MSEStep(X, y, W, b, learn_rate)\n",
    "    return W, b"
   ]
  },
  {
   "cell_type": "markdown",
   "metadata": {},
   "source": [
    "This section begins by loading data from a CSV file into a NumPy array, utilizing the np.loadtxt function to read the contents while specifying the delimiter as a comma. The data is then split into features (X) and the target variable (y), where all columns except the last are considered features and the last column represents the target. Additionally, we define the predict function, which calculates predicted values based on the learned weights and bias by applying the linear regression formula. This function will be used to generate predictions once the model has been trained."
   ]
  },
  {
   "cell_type": "code",
   "execution_count": null,
   "metadata": {},
   "outputs": [],
   "source": [
    "# Load the data from a CSV file\n",
    "data = np.loadtxt('/Users/badrelabbady/Desktop/ML/data.csv', delimiter=',')\n",
    "# Split the data into features (X) and target variable (y)\n",
    "X = data[:, :-1]\n",
    "y = data[:, -1]\n",
    "\n",
    "# Function to make predictions using the learned weights and bias\n",
    "def predict(X, w, b):\n",
    "    return X * w + b"
   ]
  },
  {
   "cell_type": "markdown",
   "metadata": {},
   "source": [
    "In this part, we make a manual prediction for a specific input value (e.g., an input feature of 3) by using the previously defined predict function with the learned weights and bias. To validate our results, we also employ scikit-learn's LinearRegression model to fit the same dataset, creating a standard for comparison. After fitting the model, we predict the output for the same input feature using the scikit-learn model. This allows us to compare the manually calculated prediction with that produced by a widely-used machine learning library."
   ]
  },
  {
   "cell_type": "code",
   "execution_count": null,
   "metadata": {},
   "outputs": [],
   "source": [
    "# Make a prediction for a specific input (e.g., input feature of 3)\n",
    "prediction_manual = predict(3, w, b)  \n",
    "\n",
    "# Using scikit-learn's LinearRegression model for comparison\n",
    "linear_regression = LinearRegression()\n",
    "model = linear_regression.fit(X, y)\n",
    "# Predicting for the same input using scikit-learn model\n",
    "sklearn_prediction = model.predict([[3]])  "
   ]
  },
  {
   "cell_type": "markdown",
   "metadata": {},
   "source": [
    "This section initializes the dataset containing Kane's seasonal performance, including the number of goals scored, minutes played, and matches played across various seasons. A Pandas DataFrame is created from this data, and the 'saison' column is transformed into ordinal encoding to facilitate numerical processing. The features (X) and target variable (y) are separated, with a specific test case prepared for the 2012-2013 season while excluding it from the training data. After training a Linear Regression model with the remaining seasons, the code predicts the number of goals for Kane in the 2012-2013 season and prints the result."
   ]
  },
  {
   "cell_type": "code",
   "execution_count": 46,
   "metadata": {},
   "outputs": [
    {
     "name": "stdout",
     "output_type": "stream",
     "text": [
      "Nombre de buts prédit pour Kany en 2017-2018 : 20.80\n"
     ]
    }
   ],
   "source": [
    "# Data for Kane's seasons and goals\n",
    "data = {\n",
    "    'saison': ['2010-2011', '2011-2012', '2012-2013', '2013-2014', '2014-2015', \n",
    "               '2015-2016', '2016-2017', '2017-2018', '2018-2019', '2019-2020',\n",
    "               '2020-2021', '2021-2022', '2022-2023', '2023-2024', '2024-2025'],\n",
    "    'buts': [5, 7, 2, 3, 29, 28, 35, 41, 24, 24, 28, 25, 32, 44, 10],  # Goals scored by Kany\n",
    "    'minutes_jouees': [1200, 1300, 1000, 1100, 1500, 1600, 1800, 1900, 1700, 1600, 1700, 1600, 1800, 2000, 1200],\n",
    "    'matchs_joues': [20, 22, 18, 19, 25, 26, 28, 30, 27, 26, 27, 26, 28, 30, 22]\n",
    "}\n",
    "\n",
    "# Create a DataFrame from the data\n",
    "df = pd.DataFrame(data)\n",
    "\n",
    "# Convert the 'saison' column to ordinal encoding\n",
    "df['saison'] = pd.Categorical(df['saison']).codes\n",
    "\n",
    "# Separate features (X) and target variable (y)\n",
    "X = df[['saison', 'minutes_jouees', 'matchs_joues']]  # Using new features\n",
    "y = df['buts']      # Target: number of goals\n",
    "\n",
    "# Prepare a test case for the specific season (2012-2013)\n",
    "X_test = X[4:5]  # Input features for the season 2012-2013 (index 4)\n",
    "y_test = y[4:5]  # Expected output (known value)\n",
    "\n",
    "# Use all other seasons for training (excluding the season being tested)\n",
    "X_train = pd.concat([X[:4], X[5:]])  # Training data excluding the 2012-2013 season\n",
    "y_train = pd.concat([y[:4], y[5:]])  # Corresponding target values\n",
    "\n",
    "# Create and train a Linear Regression model\n",
    "model = LinearRegression()\n",
    "model.fit(X_train, y_train)\n",
    "\n",
    "# Make a prediction for the test case (season 2012-2013)\n",
    "predictions = model.predict(X_test)\n",
    "\n",
    "# Print the predicted number of goals for Kany in the season 2012-2013\n",
    "print(f\"Predicted number of goals for Kane in 2012-2013: {predictions[0]:.2f}\")\n"
   ]
  },
  {
   "cell_type": "markdown",
   "metadata": {},
   "source": [
    "### Conclusion\n",
    "This project effectively demonstrated the application of a linear regression model to predict the number of goals scored by Kane during the 2012-2013 season, utilizing historical performance data from previous seasons. By systematically organizing data related to the season, minutes played, and matches played, we were able to establish a foundational model that captures the relationship between these variables and goal-scoring output. The model was trained using a robust dataset, allowing us to make informed predictions and providing valuable insights into Kane's scoring patterns.\n",
    "\n",
    "The results of our predictions indicate that the model can provide a reasonable estimate of a player's performance based on available data. However, to further enhance the model's predictive power and accuracy, I plan to incorporate additional variables that could significantly impact goal-scoring potential. Future enhancements will include metrics such as shots on target, assists, player age, and perhaps even contextual factors like the strength of the opposing team or match conditions.\n",
    "\n",
    "These additional variables can provide a richer dataset that better represents a player's performance and contributions on the field. By expanding the scope of our analysis, we aim to develop a more sophisticated model that can not only predict goals more accurately but also offer insights into the underlying factors that contribute to a player's success. Ultimately, this project serves as a stepping stone towards building a comprehensive analytical tool for evaluating player performance in football, with potential applications in scouting, coaching strategies, and fan engagement."
   ]
  },
  {
   "cell_type": "code",
   "execution_count": null,
   "metadata": {},
   "outputs": [],
   "source": []
  }
 ],
 "metadata": {
  "kernelspec": {
   "display_name": "Python 3 (ipykernel)",
   "language": "python",
   "name": "python3"
  },
  "language_info": {
   "codemirror_mode": {
    "name": "ipython",
    "version": 3
   },
   "file_extension": ".py",
   "mimetype": "text/x-python",
   "name": "python",
   "nbconvert_exporter": "python",
   "pygments_lexer": "ipython3",
   "version": "3.12.5"
  }
 },
 "nbformat": 4,
 "nbformat_minor": 4
}
